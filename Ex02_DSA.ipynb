{
  "nbformat": 4,
  "nbformat_minor": 0,
  "metadata": {
    "colab": {
      "name": "Ex02_DSA.ipynb",
      "provenance": [],
      "collapsed_sections": [],
      "authorship_tag": "ABX9TyPWQubC2cD+OeKbGyV7C+xF",
      "include_colab_link": true
    },
    "kernelspec": {
      "name": "python3",
      "display_name": "Python 3"
    },
    "language_info": {
      "name": "python"
    }
  },
  "cells": [
    {
      "cell_type": "markdown",
      "metadata": {
        "id": "view-in-github",
        "colab_type": "text"
      },
      "source": [
        "<a href=\"https://colab.research.google.com/github/bruno-jssousa/ExCap02_Dsa/blob/main/Ex02_DSA.ipynb\" target=\"_parent\"><img src=\"https://colab.research.google.com/assets/colab-badge.svg\" alt=\"Open In Colab\"/></a>"
      ]
    },
    {
      "cell_type": "markdown",
      "source": [
        "# Exercício 1 - Imprima na tela os números de 1 a 10. Use uma lista para armazenar os números."
      ],
      "metadata": {
        "id": "dZBE5vUAE9_h"
      }
    },
    {
      "cell_type": "code",
      "execution_count": null,
      "metadata": {
        "colab": {
          "base_uri": "https://localhost:8080/"
        },
        "id": "2iB1n_GQEhq3",
        "outputId": "88d45225-926d-4838-d5f4-9a10b9acea54"
      },
      "outputs": [
        {
          "output_type": "stream",
          "name": "stdout",
          "text": [
            "1\n",
            "2\n",
            "3\n",
            "4\n",
            "5\n",
            "6\n",
            "7\n",
            "8\n",
            "9\n",
            "10\n",
            "[1, 2, 3, 4, 5, 6, 7, 8, 9, 10]\n"
          ]
        }
      ],
      "source": [
        "listaExp01 = []\n",
        "\n",
        "for i in range(1,11):\n",
        "  listaExp01.append(i)\n",
        "  print(i)\n",
        "\n",
        "print(listaExp01)"
      ]
    },
    {
      "cell_type": "markdown",
      "source": [
        "# Exercício 2 - Crie uma lista de 5 objetos e imprima na tela"
      ],
      "metadata": {
        "id": "1ZaPCmIiFACU"
      }
    },
    {
      "cell_type": "code",
      "source": [
        "listaExp02 = ['cama','guarda-roupa','armario','geladeira','mesa']\n",
        "\n",
        "print(listaExp02)"
      ],
      "metadata": {
        "colab": {
          "base_uri": "https://localhost:8080/"
        },
        "id": "NGOwXHhIFDPf",
        "outputId": "940df8ba-1e6d-4bf2-e003-998cb03e6742"
      },
      "execution_count": null,
      "outputs": [
        {
          "output_type": "stream",
          "name": "stdout",
          "text": [
            "['cama', 'guarda-roupa', 'armario', 'geladeira', 'mesa']\n"
          ]
        }
      ]
    },
    {
      "cell_type": "markdown",
      "source": [
        "# Exercício 3 - Crie duas strings e concatene as duas em uma terceira string"
      ],
      "metadata": {
        "id": "VOT_q6vnFDwm"
      }
    },
    {
      "cell_type": "code",
      "source": [
        "nome = 'Bruno '\n",
        "sobrenome = 'Santana'\n",
        "nomeCompleto = nome + sobrenome\n",
        "\n",
        "print(nomeCompleto)\n"
      ],
      "metadata": {
        "colab": {
          "base_uri": "https://localhost:8080/"
        },
        "id": "SQAq2dR2FJ9d",
        "outputId": "b7c8a6b6-0a79-476e-f6d5-8947f9959d5c"
      },
      "execution_count": null,
      "outputs": [
        {
          "output_type": "stream",
          "name": "stdout",
          "text": [
            "Bruno Santana\n"
          ]
        }
      ]
    },
    {
      "cell_type": "markdown",
      "source": [
        "# Exercício 4 - Crie uma tupla com os seguintes elementos: 1, 2, 2, 3, 4, 4, 4, 5 e depois utilize a função count do \n",
        "# objeto tupla para verificar quantas vezes o número 4 aparece na tupla"
      ],
      "metadata": {
        "id": "sgVZ0ZfvFKed"
      }
    },
    {
      "cell_type": "code",
      "source": [
        "tuplaExp04 = (1,2,2,3,4,4,4,5)\n",
        "\n",
        "print(tuplaExp04.count(4))"
      ],
      "metadata": {
        "colab": {
          "base_uri": "https://localhost:8080/"
        },
        "id": "6p0Ht0rYFNkc",
        "outputId": "4c0ba4fd-fbab-4e22-ad8e-0c19f91426cf"
      },
      "execution_count": null,
      "outputs": [
        {
          "output_type": "stream",
          "name": "stdout",
          "text": [
            "3\n"
          ]
        }
      ]
    },
    {
      "cell_type": "markdown",
      "source": [
        "# Exercício 5 - Crie um dicionário vazio e imprima na tela"
      ],
      "metadata": {
        "id": "nOPKz7-VFPxU"
      }
    },
    {
      "cell_type": "code",
      "source": [
        "dicioExp05 = {}\n",
        "\n",
        "print(dicioExp05)"
      ],
      "metadata": {
        "colab": {
          "base_uri": "https://localhost:8080/"
        },
        "id": "Ruj4ZATrFROa",
        "outputId": "13cfdb63-7f3b-4025-ad41-e077e8f665e5"
      },
      "execution_count": null,
      "outputs": [
        {
          "output_type": "stream",
          "name": "stdout",
          "text": [
            "{}\n"
          ]
        }
      ]
    },
    {
      "cell_type": "markdown",
      "source": [
        "# Exercício 6 - Crie um dicionário com 3 chaves e 3 valores e imprima na tela"
      ],
      "metadata": {
        "id": "Grx_GQqJFSQH"
      }
    },
    {
      "cell_type": "code",
      "source": [
        "dicioExp06 = {'junior':18,'marcos':20,'lucas':25}\n",
        "print(dicioExp06)"
      ],
      "metadata": {
        "colab": {
          "base_uri": "https://localhost:8080/"
        },
        "id": "MXw3iEo1FUdM",
        "outputId": "bb83b5c0-5dd8-444b-8e76-8e5b650b8a9b"
      },
      "execution_count": null,
      "outputs": [
        {
          "output_type": "stream",
          "name": "stdout",
          "text": [
            "{'junior': 18, 'marcos': 20, 'lucas': 25}\n"
          ]
        }
      ]
    },
    {
      "cell_type": "markdown",
      "source": [
        "# Exercício 7 - Adicione mais um elemento ao dicionário criado no exercício anterior e imprima na tela\n"
      ],
      "metadata": {
        "id": "bFhd7jUtFU28"
      }
    },
    {
      "cell_type": "code",
      "source": [
        "dicioExp06['emerson'] = 34\n",
        "print(dicioExp06)"
      ],
      "metadata": {
        "colab": {
          "base_uri": "https://localhost:8080/"
        },
        "id": "jYJ5eo3bFXb7",
        "outputId": "35eb544f-8221-40e3-c062-4ad621ec2009"
      },
      "execution_count": null,
      "outputs": [
        {
          "output_type": "stream",
          "name": "stdout",
          "text": [
            "{'junior': 18, 'marcos': 20, 'lucas': 25, 'emerson': 34}\n"
          ]
        }
      ]
    },
    {
      "cell_type": "markdown",
      "source": [
        "# Exercício 8 - Crie um dicionário com 3 chaves e 3 valores. Um dos valores deve ser uma lista de 2 elementos numéricos. \n",
        "# Imprima o dicionário na tela."
      ],
      "metadata": {
        "id": "4UdA1fQnFYM4"
      }
    },
    {
      "cell_type": "code",
      "source": [
        "idExp08 ={'pedro':2574,'kleber':[1346,8549],'douglas':3467}\n",
        "print(idExp08)"
      ],
      "metadata": {
        "colab": {
          "base_uri": "https://localhost:8080/"
        },
        "id": "cdfvOJcrFgcS",
        "outputId": "e9c078d3-c806-4277-c57c-6d82f0f4ee1a"
      },
      "execution_count": null,
      "outputs": [
        {
          "output_type": "stream",
          "name": "stdout",
          "text": [
            "{'pedro': 2574, 'kleber': [1346, 8549], 'douglas': 3467}\n"
          ]
        }
      ]
    },
    {
      "cell_type": "markdown",
      "source": [
        "# Exercício 9 - Crie uma lista de 4 elementos. O primeiro elemento deve ser uma string, \n",
        "# o segundo uma tupla de 2 elementos, o terceiro um dcionário com 2 chaves e 2 valores e \n",
        "# o quarto elemento um valor do tipo float.\n",
        "# Imprima a lista na tela."
      ],
      "metadata": {
        "id": "tKUBo5CpFg9b"
      }
    },
    {
      "cell_type": "code",
      "source": [
        "  listaExp09 = ['primeiro',('elemento1','elemento2'),{'dicio1':1,'dicio:2':2},52.51]\n",
        "  print(listaExp09)\n",
        "  print(listaExp09[3])"
      ],
      "metadata": {
        "id": "aapwDS3YFpov",
        "colab": {
          "base_uri": "https://localhost:8080/"
        },
        "outputId": "c3d0beb3-5767-4a04-8a8d-28d1d93a7423"
      },
      "execution_count": null,
      "outputs": [
        {
          "output_type": "stream",
          "name": "stdout",
          "text": [
            "['primeiro', ('elemento1', 'elemento2'), {'dicio1': 1, 'dicio:2': 2}, 52.51]\n",
            "52.51\n"
          ]
        }
      ]
    },
    {
      "cell_type": "code",
      "source": [
        "# Exercício 10 - Considere a string abaixo. Imprima na tela apenas os caracteres da posição 1 a 18.\n",
        "frase = 'Cientista de Dados é o profissional mais sexy do século XXI'\n",
        "\n",
        "print(frase[0:18]) \n",
        "# A primeira posição é 0."
      ],
      "metadata": {
        "id": "D4F_b9AaFj7F",
        "colab": {
          "base_uri": "https://localhost:8080/"
        },
        "outputId": "b227fbcd-f2f1-4fed-aaec-152f07dbec69"
      },
      "execution_count": null,
      "outputs": [
        {
          "output_type": "stream",
          "name": "stdout",
          "text": [
            "Cientista de Dados\n"
          ]
        }
      ]
    }
  ]
}